{
 "cells": [
  {
   "cell_type": "code",
   "execution_count": 220,
   "id": "04a80f3a-bb2b-423b-9ec2-e75e10972f11",
   "metadata": {},
   "outputs": [],
   "source": [
    "import matplotlib.pyplot as plt\n",
    "import numpy as np"
   ]
  },
  {
   "cell_type": "code",
   "execution_count": 207,
   "id": "8b69d879-124f-41cd-a36a-08b5281d0d4f",
   "metadata": {},
   "outputs": [],
   "source": [
    "rows = 5\n",
    "cols = 5\n",
    "top_temp = 100\n",
    "left_temp = 200\n",
    "right_temp = 300\n",
    "bottom_temp = 400\n",
    "epsilon = 0.01"
   ]
  },
  {
   "cell_type": "code",
   "execution_count": 208,
   "id": "0fa964cd-6e64-4401-8ca6-c9d5f14e86d1",
   "metadata": {},
   "outputs": [],
   "source": [
    "hotplate = np.zeros((rows, cols))"
   ]
  },
  {
   "cell_type": "code",
   "execution_count": 209,
   "id": "4bf775eb-6b85-400f-bbeb-5afb0cb1bb6c",
   "metadata": {},
   "outputs": [],
   "source": [
    "hotplate[0,:] = top_temp\n",
    "hotplate[:,0] = left_temp\n",
    "hotplate[:,-1] = right_temp\n",
    "hotplate[-1,:] = bottom_temp"
   ]
  },
  {
   "cell_type": "code",
   "execution_count": 210,
   "id": "1f79a37a-2980-4e39-9ae4-b6ab1c4ac319",
   "metadata": {},
   "outputs": [
    {
     "data": {
      "text/plain": [
       "array([[200., 100., 100., 100., 300.],\n",
       "       [200.,   0.,   0.,   0., 300.],\n",
       "       [200.,   0.,   0.,   0., 300.],\n",
       "       [200.,   0.,   0.,   0., 300.],\n",
       "       [400., 400., 400., 400., 400.]])"
      ]
     },
     "execution_count": 210,
     "metadata": {},
     "output_type": "execute_result"
    }
   ],
   "source": [
    "hotplate"
   ]
  },
  {
   "cell_type": "code",
   "execution_count": null,
   "id": "2070f7be-be7b-4e63-91a2-3fde9c1157c5",
   "metadata": {},
   "outputs": [],
   "source": []
  },
  {
   "cell_type": "code",
   "execution_count": 211,
   "id": "22b1ecc2-23de-4fad-9b03-ea7183f21f5e",
   "metadata": {},
   "outputs": [
    {
     "data": {
      "text/plain": [
       "268.75"
      ]
     },
     "execution_count": 211,
     "metadata": {},
     "output_type": "execute_result"
    }
   ],
   "source": [
    "avg = (np.sum(hotplate[0,:] + hotplate[-1,:]) + np.sum(hotplate[1:-1,0] + hotplate[1:-1, -1])) / (2*rows + 2*cols - 4)\n",
    "avg"
   ]
  },
  {
   "cell_type": "code",
   "execution_count": 212,
   "id": "d7ab0de1-28fa-45dd-b392-7af341474fb9",
   "metadata": {},
   "outputs": [
    {
     "data": {
      "text/plain": [
       "array([[200.  , 100.  , 100.  , 100.  , 300.  ],\n",
       "       [200.  , 268.75, 268.75, 268.75, 300.  ],\n",
       "       [200.  , 268.75, 268.75, 268.75, 300.  ],\n",
       "       [200.  , 268.75, 268.75, 268.75, 300.  ],\n",
       "       [400.  , 400.  , 400.  , 400.  , 400.  ]])"
      ]
     },
     "execution_count": 212,
     "metadata": {},
     "output_type": "execute_result"
    }
   ],
   "source": [
    "hotplate[1:-1,1:-1] = avg\n",
    "hotplate"
   ]
  },
  {
   "cell_type": "code",
   "execution_count": 213,
   "id": "ad9e548b-7f85-40f3-89ad-015146d3999c",
   "metadata": {},
   "outputs": [],
   "source": [
    "alpha = 0.1"
   ]
  },
  {
   "cell_type": "code",
   "execution_count": 214,
   "id": "de300f58-271b-4e1d-b2f4-263ace542ec9",
   "metadata": {},
   "outputs": [
    {
     "name": "stdout",
     "output_type": "stream",
     "text": [
      "1 45.4345703125\n",
      "2 11.773681640625\n",
      "3 3.41796875\n",
      "4 1.708984375\n",
      "5 0.8544921875\n",
      "6 0.42724609375\n",
      "7 0.213623046875\n",
      "8 0.1068115234375\n",
      "9 0.05340576171875\n",
      "10 0.026702880859375\n",
      "11 0.0133514404296875\n",
      "12 0.00667572021484375\n"
     ]
    }
   ],
   "source": [
    "count = 0\n",
    "while True:\n",
    "    max_diff = 0\n",
    "    count += 1\n",
    "    for i in range(1, len(hotplate) - 1):\n",
    "        for j in range(1, len(hotplate) - 1):\n",
    "            new_temp = (hotplate[i-1][j] + hotplate[i+1][j] + hotplate[i][j-1] + hotplate[i][j+1]) / 4.0\n",
    "            diff = new_temp - hotplate[i][j]\n",
    "            max_diff = max(max_diff, diff)\n",
    "            hotplate[i][j] += diff\n",
    "    print(count, max_diff)\n",
    "    if max_diff < epsilon:\n",
    "        break"
   ]
  },
  {
   "cell_type": "code",
   "execution_count": null,
   "id": "6de3c989-9ab7-48fd-b28c-07f152ade2d7",
   "metadata": {},
   "outputs": [],
   "source": [
    "hotplate"
   ]
  },
  {
   "cell_type": "code",
   "execution_count": 215,
   "id": "6de4446e-b4d7-4858-b7b3-4aed8990047a",
   "metadata": {},
   "outputs": [],
   "source": [
    "import tensorflow as tf\n",
    "import tensorflow.keras as keras"
   ]
  },
  {
   "cell_type": "code",
   "execution_count": 219,
   "id": "8a8b1795-b70c-4a45-aa6d-5b2061d9b9ba",
   "metadata": {},
   "outputs": [],
   "source": [
    "(x_train, y_train), (x_test, y_test) = keras.datasets.mnist.load_data()"
   ]
  },
  {
   "cell_type": "code",
   "execution_count": 228,
   "id": "d95a21ce-1617-4419-81cf-c29570a7d674",
   "metadata": {},
   "outputs": [],
   "source": [
    "x_train = x_train / float(np.max(x_train))"
   ]
  },
  {
   "cell_type": "code",
   "execution_count": 253,
   "id": "b39b530e-2f87-4230-ab04-ffaec8962683",
   "metadata": {},
   "outputs": [
    {
     "data": {
      "text/plain": [
       "<matplotlib.image.AxesImage at 0x7fb6ec5cf310>"
      ]
     },
     "execution_count": 253,
     "metadata": {},
     "output_type": "execute_result"
    },
    {
     "data": {
      "image/png": "[encoded data removed]",
      "text/plain": [
       "<Figure size 432x288 with 1 Axes>"
      ]
     },
     "metadata": {
      "needs_background": "light"
     },
     "output_type": "display_data"
    }
   ],
   "source": [
    "plt.imshow(x_train[2])"
   ]
  },
  {
   "cell_type": "code",
   "execution_count": 259,
   "id": "c76059cc-258e-4627-86bc-b4bc6c0082aa",
   "metadata": {},
   "outputs": [],
   "source": [
    "x = keras.layers.Input((28,28))\n",
    "y = keras.layers.Flatten()(x)\n",
    "y = keras.layers.Dense(64, activation=\"tanh\")(y)\n",
    "y = keras.layers.Dense(64, activation=\"tanh\")(y)\n",
    "y = keras.layers.Dropout(0.5)(y)\n",
    "y = keras.layers.Dense(64, activation=\"tanh\")(y)\n",
    "y = keras.layers.Dense(64, activation=\"tanh\")(y)\n",
    "y = keras.layers.Dropout(0.5)(y)\n",
    "y = keras.layers.Dense(10, activation=\"softmax\")(y)\n",
    "\n",
    "model = keras.Model(x, y)\n",
    "model.compile(\n",
    "    loss=keras.losses.SparseCategoricalCrossentropy(),\n",
    "    metrics=[keras.metrics.SparseCategoricalAccuracy()],\n",
    "    optimizer=keras.optimizers.Adam()\n",
    ")"
   ]
  },
  {
   "cell_type": "code",
   "execution_count": 260,
   "id": "79ef61e0-1a80-4d76-b96f-874dd5534d76",
   "metadata": {},
   "outputs": [
    {
     "name": "stdout",
     "output_type": "stream",
     "text": [
      "Epoch 1/20\n",
      "1500/1500 [==============================] - 3s 2ms/step - loss: 0.5297 - sparse_categorical_accuracy: 0.8394 - val_loss: 0.2145 - val_sparse_categorical_accuracy: 0.9380\n",
      "Epoch 2/20\n",
      "1500/1500 [==============================] - 2s 2ms/step - loss: 0.2833 - sparse_categorical_accuracy: 0.9222 - val_loss: 0.1748 - val_sparse_categorical_accuracy: 0.9521\n",
      "Epoch 3/20\n",
      "1500/1500 [==============================] - 2s 2ms/step - loss: 0.2169 - sparse_categorical_accuracy: 0.9400 - val_loss: 0.1531 - val_sparse_categorical_accuracy: 0.9581\n",
      "Epoch 4/20\n",
      "1500/1500 [==============================] - 2s 2ms/step - loss: 0.1853 - sparse_categorical_accuracy: 0.9492 - val_loss: 0.1554 - val_sparse_categorical_accuracy: 0.9582\n",
      "Epoch 5/20\n",
      "1500/1500 [==============================] - 2s 2ms/step - loss: 0.1625 - sparse_categorical_accuracy: 0.9561 - val_loss: 0.1404 - val_sparse_categorical_accuracy: 0.9623\n",
      "Epoch 6/20\n",
      "1500/1500 [==============================] - 2s 2ms/step - loss: 0.1401 - sparse_categorical_accuracy: 0.9621 - val_loss: 0.1315 - val_sparse_categorical_accuracy: 0.9658\n",
      "Epoch 7/20\n",
      "1500/1500 [==============================] - 2s 2ms/step - loss: 0.1250 - sparse_categorical_accuracy: 0.9660 - val_loss: 0.1227 - val_sparse_categorical_accuracy: 0.9694\n",
      "Epoch 8/20\n",
      "1500/1500 [==============================] - 2s 2ms/step - loss: 0.1176 - sparse_categorical_accuracy: 0.9683 - val_loss: 0.1235 - val_sparse_categorical_accuracy: 0.9694\n",
      "Epoch 9/20\n",
      "1500/1500 [==============================] - 2s 2ms/step - loss: 0.1097 - sparse_categorical_accuracy: 0.9702 - val_loss: 0.1211 - val_sparse_categorical_accuracy: 0.9690\n",
      "Epoch 10/20\n",
      "1500/1500 [==============================] - 2s 2ms/step - loss: 0.0993 - sparse_categorical_accuracy: 0.9726 - val_loss: 0.1513 - val_sparse_categorical_accuracy: 0.9645\n",
      "Epoch 11/20\n",
      "1500/1500 [==============================] - 2s 2ms/step - loss: 0.0978 - sparse_categorical_accuracy: 0.9727 - val_loss: 0.1251 - val_sparse_categorical_accuracy: 0.9705\n",
      "Epoch 12/20\n",
      "1500/1500 [==============================] - 2s 2ms/step - loss: 0.0859 - sparse_categorical_accuracy: 0.9765 - val_loss: 0.1315 - val_sparse_categorical_accuracy: 0.9691\n",
      "Epoch 13/20\n",
      "1500/1500 [==============================] - 2s 2ms/step - loss: 0.0822 - sparse_categorical_accuracy: 0.9772 - val_loss: 0.1258 - val_sparse_categorical_accuracy: 0.9712\n",
      "Epoch 14/20\n",
      "1500/1500 [==============================] - 2s 2ms/step - loss: 0.0799 - sparse_categorical_accuracy: 0.9776 - val_loss: 0.1332 - val_sparse_categorical_accuracy: 0.9697\n",
      "Epoch 15/20\n",
      "1500/1500 [==============================] - 2s 2ms/step - loss: 0.0754 - sparse_categorical_accuracy: 0.9797 - val_loss: 0.1400 - val_sparse_categorical_accuracy: 0.9691\n",
      "Epoch 16/20\n",
      "1500/1500 [==============================] - 2s 2ms/step - loss: 0.0719 - sparse_categorical_accuracy: 0.9807 - val_loss: 0.1422 - val_sparse_categorical_accuracy: 0.9682\n",
      "Epoch 17/20\n",
      "1500/1500 [==============================] - 2s 2ms/step - loss: 0.0749 - sparse_categorical_accuracy: 0.9797 - val_loss: 0.1306 - val_sparse_categorical_accuracy: 0.9709\n",
      "Epoch 18/20\n",
      "1500/1500 [==============================] - 2s 2ms/step - loss: 0.0627 - sparse_categorical_accuracy: 0.9826 - val_loss: 0.1410 - val_sparse_categorical_accuracy: 0.9705\n",
      "Epoch 19/20\n",
      "1500/1500 [==============================] - 2s 2ms/step - loss: 0.0637 - sparse_categorical_accuracy: 0.9820 - val_loss: 0.1384 - val_sparse_categorical_accuracy: 0.9689\n",
      "Epoch 20/20\n",
      "1500/1500 [==============================] - 2s 2ms/step - loss: 0.0618 - sparse_categorical_accuracy: 0.9829 - val_loss: 0.1317 - val_sparse_categorical_accuracy: 0.9718\n"
     ]
    }
   ],
   "source": [
    "history = model.fit(x_train, y_train, validation_split=0.2, epochs=20)"
   ]
  },
  {
   "cell_type": "code",
   "execution_count": 261,
   "id": "88480d8f-c1b8-4193-b762-a46e19cfb456",
   "metadata": {},
   "outputs": [
    {
     "data": {
      "text/plain": [
       "[<matplotlib.lines.Line2D at 0x7fb6d46177c0>]"
      ]
     },
     "execution_count": 261,
     "metadata": {},
     "output_type": "execute_result"
    },
    {
     "data": {
      "image/png": "[encoded data removed]",
      "text/plain": [
       "<Figure size 432x288 with 1 Axes>"
      ]
     },
     "metadata": {
      "needs_background": "light"
     },
     "output_type": "display_data"
    }
   ],
   "source": [
    "plt.plot(history.history[\"loss\"])\n",
    "plt.plot(history.history[\"val_loss\"])"
   ]
  },
  {
   "cell_type": "code",
   "execution_count": 257,
   "id": "b7fffa7d-9815-479e-92c7-f354ee803506",
   "metadata": {},
   "outputs": [
    {
     "ename": "NameError",
     "evalue": "name 'dataset' is not defined",
     "output_type": "error",
     "traceback": [
      "\u001b[0;31m---------------------------------------------------------------------------\u001b[0m",
      "\u001b[0;31mNameError\u001b[0m                                 Traceback (most recent call last)",
      "Input \u001b[0;32mIn [257]\u001b[0m, in \u001b[0;36m<cell line: 1>\u001b[0;34m()\u001b[0m\n\u001b[0;32m----> 1\u001b[0m model\u001b[38;5;241m.\u001b[39mfit(\u001b[43mdataset\u001b[49m, validation_data\u001b[38;5;241m=\u001b[39mval_dataset)\n",
      "\u001b[0;31mNameError\u001b[0m: name 'dataset' is not defined"
     ]
    }
   ],
   "source": [
    "model.fit(dataset, validation_data=val_dataset)"
   ]
  },
  {
   "cell_type": "code",
   "execution_count": null,
   "id": "55a466ef-e80b-46b3-8f50-47ab6a6ad724",
   "metadata": {},
   "outputs": [],
   "source": []
  }
 ],
 "metadata": {
  "kernelspec": {
   "display_name": "Python 3 (ipykernel)",
   "language": "python",
   "name": "python3"
  },
  "language_info": {
   "codemirror_mode": {
    "name": "ipython",
    "version": 3
   },
   "file_extension": ".py",
   "mimetype": "text/x-python",
   "name": "python",
   "nbconvert_exporter": "python",
   "pygments_lexer": "ipython3",
   "version": "3.10.5"
  }
 },
 "nbformat": 4,
 "nbformat_minor": 5
}
