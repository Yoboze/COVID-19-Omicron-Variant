{
 "cells": [
  {
   "cell_type": "code",
   "execution_count": 1,
   "id": "0a801cc7-7249-4b77-8272-44c639e1e3fb",
   "metadata": {},
   "outputs": [],
   "source": [
    "import numpy as np\n",
    "import pandas as pd\n",
    "import matplotlib.pyplot as plt\n",
    "from matplotlib.colors import ListedColormap\n",
    "from sklearn.neighbors import KNeighborsClassifier\n",
    "from sklearn.tree import DecisionTreeClassifier\n",
    "from sklearn.ensemble import RandomForestClassifier\n",
    "from sklearn import tree\n",
    "from sklearn.neural_network import MLPClassifier\n",
    "from sklearn import metrics\n",
    "from IPython.display import Image\n",
    "from sklearn.preprocessing import StandardScaler\n",
    "%matplotlib inline"
   ]
  },
  {
   "cell_type": "code",
   "execution_count": 17,
   "id": "be0b52a8-76e5-4edf-a4e7-c12031ffcc72",
   "metadata": {},
   "outputs": [
    {
     "data": {
      "text/html": [
       "<div>\n",
       "<style scoped>\n",
       "    .dataframe tbody tr th:only-of-type {\n",
       "        vertical-align: middle;\n",
       "    }\n",
       "\n",
       "    .dataframe tbody tr th {\n",
       "        vertical-align: top;\n",
       "    }\n",
       "\n",
       "    .dataframe thead th {\n",
       "        text-align: right;\n",
       "    }\n",
       "</style>\n",
       "<table border=\"1\" class=\"dataframe\">\n",
       "  <thead>\n",
       "    <tr style=\"text-align: right;\">\n",
       "      <th></th>\n",
       "      <th>Date_reported</th>\n",
       "      <th>Country_code</th>\n",
       "      <th>Country</th>\n",
       "      <th>WHO_region</th>\n",
       "      <th>New_cases</th>\n",
       "      <th>Cumulative_cases</th>\n",
       "      <th>New_deaths</th>\n",
       "      <th>Cumulative_deaths</th>\n",
       "    </tr>\n",
       "  </thead>\n",
       "  <tbody>\n",
       "    <tr>\n",
       "      <th>0</th>\n",
       "      <td>2020-01-03</td>\n",
       "      <td>AF</td>\n",
       "      <td>Afghanistan</td>\n",
       "      <td>EMRO</td>\n",
       "      <td>0</td>\n",
       "      <td>0</td>\n",
       "      <td>0</td>\n",
       "      <td>0</td>\n",
       "    </tr>\n",
       "    <tr>\n",
       "      <th>1</th>\n",
       "      <td>2020-01-04</td>\n",
       "      <td>AF</td>\n",
       "      <td>Afghanistan</td>\n",
       "      <td>EMRO</td>\n",
       "      <td>0</td>\n",
       "      <td>0</td>\n",
       "      <td>0</td>\n",
       "      <td>0</td>\n",
       "    </tr>\n",
       "    <tr>\n",
       "      <th>2</th>\n",
       "      <td>2020-01-05</td>\n",
       "      <td>AF</td>\n",
       "      <td>Afghanistan</td>\n",
       "      <td>EMRO</td>\n",
       "      <td>0</td>\n",
       "      <td>0</td>\n",
       "      <td>0</td>\n",
       "      <td>0</td>\n",
       "    </tr>\n",
       "    <tr>\n",
       "      <th>3</th>\n",
       "      <td>2020-01-06</td>\n",
       "      <td>AF</td>\n",
       "      <td>Afghanistan</td>\n",
       "      <td>EMRO</td>\n",
       "      <td>0</td>\n",
       "      <td>0</td>\n",
       "      <td>0</td>\n",
       "      <td>0</td>\n",
       "    </tr>\n",
       "    <tr>\n",
       "      <th>4</th>\n",
       "      <td>2020-01-07</td>\n",
       "      <td>AF</td>\n",
       "      <td>Afghanistan</td>\n",
       "      <td>EMRO</td>\n",
       "      <td>0</td>\n",
       "      <td>0</td>\n",
       "      <td>0</td>\n",
       "      <td>0</td>\n",
       "    </tr>\n",
       "  </tbody>\n",
       "</table>\n",
       "</div>"
      ],
      "text/plain": [
       "  Date_reported Country_code      Country WHO_region  New_cases  \\\n",
       "0    2020-01-03           AF  Afghanistan       EMRO          0   \n",
       "1    2020-01-04           AF  Afghanistan       EMRO          0   \n",
       "2    2020-01-05           AF  Afghanistan       EMRO          0   \n",
       "3    2020-01-06           AF  Afghanistan       EMRO          0   \n",
       "4    2020-01-07           AF  Afghanistan       EMRO          0   \n",
       "\n",
       "   Cumulative_cases  New_deaths  Cumulative_deaths  \n",
       "0                 0           0                  0  \n",
       "1                 0           0                  0  \n",
       "2                 0           0                  0  \n",
       "3                 0           0                  0  \n",
       "4                 0           0                  0  "
      ]
     },
     "execution_count": 17,
     "metadata": {},
     "output_type": "execute_result"
    }
   ],
   "source": [
    "dat1 =pd.read_csv('WHO-COVID-19-global-data (1).csv')\n",
    "dat1.head()"
   ]
  },
  {
   "cell_type": "code",
   "execution_count": 18,
   "id": "3c4e40a1-2d07-4ab0-bd5f-060acfda5b51",
   "metadata": {},
   "outputs": [],
   "source": [
    "dat2=dat1[['Date_reported', 'New_cases', 'Country']]"
   ]
  },
  {
   "cell_type": "code",
   "execution_count": 19,
   "id": "7bcdc274-f7f7-4ac6-9ff6-3991982634d3",
   "metadata": {},
   "outputs": [],
   "source": [
    "ddf = dat2[dat2['Country']=='Portugal']"
   ]
  },
  {
   "cell_type": "code",
   "execution_count": 20,
   "id": "e10ffeac-49a8-4d2a-9003-ca36d34b1c1c",
   "metadata": {},
   "outputs": [],
   "source": [
    "cases1 = np.array(ddf['New_cases'])"
   ]
  },
  {
   "cell_type": "code",
   "execution_count": 21,
   "id": "3c0586fc-d122-4c42-8c7e-b7483c4ae9d9",
   "metadata": {},
   "outputs": [
    {
     "data": {
      "text/plain": [
       "array(['2020-01-03', '2020-01-04', '2020-01-05', ..., '2022-09-18',\n",
       "       '2022-09-19', '2022-09-20'], dtype=object)"
      ]
     },
     "execution_count": 21,
     "metadata": {},
     "output_type": "execute_result"
    }
   ],
   "source": [
    "np.array(dat2['Date_reported'])"
   ]
  },
  {
   "cell_type": "code",
   "execution_count": 48,
   "id": "005d058a-6a5d-448b-9158-61785345710e",
   "metadata": {},
   "outputs": [],
   "source": [
    "dfframe =pd.DataFrame(data = cases1, index=np.array(ddf['Date_reported']))\n",
    "dfframe.to_csv('Portugal.csv')"
   ]
  },
  {
   "cell_type": "markdown",
   "id": "1e975063-6ec6-408a-844c-6c59008008b7",
   "metadata": {},
   "source": [
    "### Making the data Horizontal"
   ]
  },
  {
   "cell_type": "code",
   "execution_count": 40,
   "id": "5fff5345-fd32-45b6-b8e9-00f4a35fd2f6",
   "metadata": {},
   "outputs": [
    {
     "data": {
      "text/html": [
       "<div>\n",
       "<style scoped>\n",
       "    .dataframe tbody tr th:only-of-type {\n",
       "        vertical-align: middle;\n",
       "    }\n",
       "\n",
       "    .dataframe tbody tr th {\n",
       "        vertical-align: top;\n",
       "    }\n",
       "\n",
       "    .dataframe thead th {\n",
       "        text-align: right;\n",
       "    }\n",
       "</style>\n",
       "<table border=\"1\" class=\"dataframe\">\n",
       "  <thead>\n",
       "    <tr style=\"text-align: right;\">\n",
       "      <th></th>\n",
       "      <th>Unnamed: 0</th>\n",
       "      <th>0</th>\n",
       "    </tr>\n",
       "  </thead>\n",
       "  <tbody>\n",
       "    <tr>\n",
       "      <th>0</th>\n",
       "      <td>2020-01-03</td>\n",
       "      <td>0</td>\n",
       "    </tr>\n",
       "    <tr>\n",
       "      <th>1</th>\n",
       "      <td>2020-01-04</td>\n",
       "      <td>0</td>\n",
       "    </tr>\n",
       "    <tr>\n",
       "      <th>2</th>\n",
       "      <td>2020-01-05</td>\n",
       "      <td>0</td>\n",
       "    </tr>\n",
       "    <tr>\n",
       "      <th>3</th>\n",
       "      <td>2020-01-06</td>\n",
       "      <td>0</td>\n",
       "    </tr>\n",
       "    <tr>\n",
       "      <th>4</th>\n",
       "      <td>2020-01-07</td>\n",
       "      <td>0</td>\n",
       "    </tr>\n",
       "  </tbody>\n",
       "</table>\n",
       "</div>"
      ],
      "text/plain": [
       "   Unnamed: 0  0\n",
       "0  2020-01-03  0\n",
       "1  2020-01-04  0\n",
       "2  2020-01-05  0\n",
       "3  2020-01-06  0\n",
       "4  2020-01-07  0"
      ]
     },
     "execution_count": 40,
     "metadata": {},
     "output_type": "execute_result"
    }
   ],
   "source": [
    "dat =pd.read_csv('Brazil.csv')\n",
    "dat.head()"
   ]
  },
  {
   "cell_type": "code",
   "execution_count": 41,
   "id": "045c70bd-1983-4456-ad50-9601fc6033ba",
   "metadata": {},
   "outputs": [],
   "source": [
    "date = dat[\"Unnamed: 0\"]\n",
    "new_cases = dat[\"0\"]"
   ]
  },
  {
   "cell_type": "code",
   "execution_count": 42,
   "id": "f2b6a33e-7418-47d3-863a-7f2eec9c9452",
   "metadata": {},
   "outputs": [],
   "source": [
    "data1 = pd.DataFrame(data = [np.array(new_cases)], columns = date)"
   ]
  },
  {
   "cell_type": "code",
   "execution_count": 43,
   "id": "a89af05b-6e34-4026-9e5e-6f62de40df3d",
   "metadata": {},
   "outputs": [],
   "source": [
    "data1.to_csv('Omicron_Brazil.csv')"
   ]
  },
  {
   "cell_type": "markdown",
   "id": "f353cb63-734b-4d8a-a6fa-b9854fb3b089",
   "metadata": {},
   "source": [
    "### Cumulative data"
   ]
  },
  {
   "cell_type": "code",
   "execution_count": 11,
   "id": "4142608e-523b-49db-94e9-32ff2f24ef6e",
   "metadata": {},
   "outputs": [
    {
     "data": {
      "text/html": [
       "<div>\n",
       "<style scoped>\n",
       "    .dataframe tbody tr th:only-of-type {\n",
       "        vertical-align: middle;\n",
       "    }\n",
       "\n",
       "    .dataframe tbody tr th {\n",
       "        vertical-align: top;\n",
       "    }\n",
       "\n",
       "    .dataframe thead th {\n",
       "        text-align: right;\n",
       "    }\n",
       "</style>\n",
       "<table border=\"1\" class=\"dataframe\">\n",
       "  <thead>\n",
       "    <tr style=\"text-align: right;\">\n",
       "      <th></th>\n",
       "      <th>Unnamed: 0</th>\n",
       "      <th>0</th>\n",
       "    </tr>\n",
       "  </thead>\n",
       "  <tbody>\n",
       "    <tr>\n",
       "      <th>0</th>\n",
       "      <td>11/29/2021</td>\n",
       "      <td>2476</td>\n",
       "    </tr>\n",
       "    <tr>\n",
       "      <th>1</th>\n",
       "      <td>11/30/2021</td>\n",
       "      <td>1476</td>\n",
       "    </tr>\n",
       "    <tr>\n",
       "      <th>2</th>\n",
       "      <td>12/1/2021</td>\n",
       "      <td>3330</td>\n",
       "    </tr>\n",
       "    <tr>\n",
       "      <th>3</th>\n",
       "      <td>12/2/2021</td>\n",
       "      <td>4486</td>\n",
       "    </tr>\n",
       "    <tr>\n",
       "      <th>4</th>\n",
       "      <td>12/3/2021</td>\n",
       "      <td>2534</td>\n",
       "    </tr>\n",
       "  </tbody>\n",
       "</table>\n",
       "</div>"
      ],
      "text/plain": [
       "   Unnamed: 0     0\n",
       "0  11/29/2021  2476\n",
       "1  11/30/2021  1476\n",
       "2   12/1/2021  3330\n",
       "3   12/2/2021  4486\n",
       "4   12/3/2021  2534"
      ]
     },
     "execution_count": 11,
     "metadata": {},
     "output_type": "execute_result"
    }
   ],
   "source": [
    "data =pd.read_csv(\"Cun_P.csv\")\n",
    "data.head()"
   ]
  },
  {
   "cell_type": "code",
   "execution_count": 12,
   "id": "ca2e1e8e-023f-4ae5-ae93-6adccbf7da8b",
   "metadata": {},
   "outputs": [],
   "source": [
    "cases11 = np.array(data['0'])"
   ]
  },
  {
   "cell_type": "code",
   "execution_count": 13,
   "id": "d2934ee0-28bc-458a-909d-e71c45bba962",
   "metadata": {},
   "outputs": [],
   "source": [
    "casess = np.cumsum(cases11[::])[::]"
   ]
  },
  {
   "cell_type": "code",
   "execution_count": 14,
   "id": "0ec6b3b1-73f0-4bfc-8bdc-40ad2ddc72e5",
   "metadata": {},
   "outputs": [
    {
     "data": {
      "text/plain": [
       "array(['11/29/2021', '11/30/2021', '12/1/2021', '12/2/2021', '12/3/2021',\n",
       "       '12/4/2021', '12/5/2021', '12/6/2021', '12/7/2021', '12/8/2021',\n",
       "       '12/9/2021', '12/10/2021', '12/11/2021', '12/12/2021',\n",
       "       '12/13/2021', '12/14/2021', '12/15/2021', '12/16/2021',\n",
       "       '12/17/2021', '12/18/2021', '12/19/2021', '12/20/2021',\n",
       "       '12/21/2021', '12/22/2021', '12/23/2021', '12/24/2021',\n",
       "       '12/25/2021', '12/26/2021', '12/27/2021', '12/28/2021',\n",
       "       '12/29/2021', '12/30/2021', '12/31/2021', '1/1/2022', '1/2/2022',\n",
       "       '1/3/2022', '1/4/2022', '1/5/2022', '1/6/2022', '1/7/2022',\n",
       "       '1/8/2022', '1/9/2022', '1/10/2022', '1/11/2022', '1/12/2022',\n",
       "       '1/13/2022', '1/14/2022', '1/15/2022', '1/16/2022', '1/17/2022',\n",
       "       '1/18/2022', '1/19/2022', '1/20/2022', '1/21/2022', '1/22/2022',\n",
       "       '1/23/2022', '1/24/2022', '1/25/2022', '1/26/2022', '1/27/2022',\n",
       "       '1/28/2022', '1/29/2022', '1/30/2022', '1/31/2022', '2/1/2022',\n",
       "       '2/2/2022', '2/3/2022', '2/4/2022', '2/5/2022', '2/6/2022',\n",
       "       '2/7/2022', '2/8/2022', '2/9/2022', '2/10/2022', '2/11/2022',\n",
       "       '2/12/2022', '2/13/2022', '2/14/2022', '2/15/2022', '2/16/2022',\n",
       "       '2/17/2022', '2/18/2022', '2/19/2022', '2/20/2022', '2/21/2022',\n",
       "       '2/22/2022', '2/23/2022', '2/24/2022', '2/25/2022', '2/26/2022',\n",
       "       '2/27/2022', '2/28/2022', '3/1/2022', '3/2/2022', '3/3/2022',\n",
       "       '3/4/2022', '3/5/2022', '3/6/2022', '3/7/2022', '3/8/2022',\n",
       "       '3/9/2022', '3/10/2022', '3/11/2022', '3/12/2022', '3/13/2022',\n",
       "       '3/14/2022', '3/15/2022', '3/16/2022', '3/17/2022', '3/18/2022',\n",
       "       '3/19/2022', '3/20/2022', '3/21/2022', '3/22/2022', '3/23/2022',\n",
       "       '3/24/2022', '3/25/2022', '3/26/2022', '3/27/2022', '3/28/2022',\n",
       "       '3/29/2022', '3/30/2022', '3/31/2022', '4/1/2022', '4/2/2022',\n",
       "       '4/3/2022', '4/4/2022', '4/5/2022', '4/6/2022', '4/7/2022',\n",
       "       '4/8/2022', '4/9/2022', '4/10/2022', '4/11/2022', '4/12/2022',\n",
       "       '4/13/2022', '4/14/2022', '4/15/2022', '4/16/2022', '4/17/2022',\n",
       "       '4/18/2022', '4/19/2022', '4/20/2022', '4/21/2022', '4/22/2022',\n",
       "       '4/23/2022', '4/24/2022', '4/25/2022', '4/26/2022', '4/27/2022',\n",
       "       '4/28/2022', '4/29/2022', '4/30/2022', '5/1/2022', '5/2/2022',\n",
       "       '5/3/2022', '5/4/2022', '5/5/2022', '5/6/2022', '5/7/2022',\n",
       "       '5/8/2022', '5/9/2022', '5/10/2022', '5/11/2022', '5/12/2022',\n",
       "       '5/13/2022', '5/14/2022', '5/15/2022', '5/16/2022', '5/17/2022',\n",
       "       '5/18/2022', '5/19/2022', '5/20/2022', '5/21/2022', '5/22/2022',\n",
       "       '5/23/2022', '5/24/2022', '5/25/2022', '5/26/2022', '5/27/2022',\n",
       "       '5/28/2022', '5/29/2022', '5/30/2022', '5/31/2022', '6/1/2022',\n",
       "       '6/2/2022', '6/3/2022', '6/4/2022', '6/5/2022', '6/6/2022',\n",
       "       '6/7/2022', '6/8/2022', '6/9/2022', '6/10/2022', '6/11/2022',\n",
       "       '6/12/2022', '6/13/2022', '6/14/2022', '6/15/2022', '6/16/2022',\n",
       "       '6/17/2022', '6/18/2022', '6/19/2022', '6/20/2022', '6/21/2022',\n",
       "       '6/22/2022', '6/23/2022', '6/24/2022', '6/25/2022', '6/26/2022',\n",
       "       '6/27/2022', '6/28/2022', '6/29/2022', '6/30/2022', '7/1/2022',\n",
       "       '7/2/2022', '7/3/2022', '7/4/2022', '7/5/2022', '7/6/2022',\n",
       "       '7/7/2022', '7/8/2022', '7/9/2022', '7/10/2022', '7/11/2022',\n",
       "       '7/12/2022', '7/13/2022', '7/14/2022', '7/15/2022', '7/16/2022',\n",
       "       '7/17/2022', '7/18/2022', '7/19/2022', '7/20/2022', '7/21/2022',\n",
       "       '7/22/2022', '7/23/2022', '7/24/2022', '7/25/2022', '7/26/2022',\n",
       "       '7/27/2022', '7/28/2022', '7/29/2022', '7/30/2022', '7/31/2022',\n",
       "       '8/1/2022', '8/2/2022', '8/3/2022', '8/4/2022', '8/5/2022',\n",
       "       '8/6/2022', '8/7/2022', '8/8/2022', '8/9/2022', '8/10/2022',\n",
       "       '8/11/2022', '8/12/2022', '8/13/2022', '8/14/2022', '8/15/2022',\n",
       "       '8/16/2022', '8/17/2022', '8/18/2022', '8/19/2022', '8/20/2022',\n",
       "       '8/21/2022', '8/22/2022', '8/23/2022', '8/24/2022', '8/25/2022',\n",
       "       '8/26/2022', '8/27/2022', '8/28/2022', '8/29/2022', '8/30/2022',\n",
       "       '8/31/2022', '9/1/2022', '9/2/2022', '9/3/2022', '9/4/2022',\n",
       "       '9/5/2022', '9/6/2022', '9/7/2022', '9/8/2022', '9/9/2022',\n",
       "       '9/10/2022', '9/11/2022', '9/12/2022', '9/13/2022', '9/14/2022',\n",
       "       '9/15/2022', '9/16/2022', '9/17/2022', '9/18/2022', '9/19/2022',\n",
       "       '9/20/2022', '4/12/2022', '4/13/2022', '4/14/2022', '4/15/2022',\n",
       "       '4/16/2022', '4/17/2022', '4/18/2022', '4/19/2022', '4/20/2022',\n",
       "       '4/21/2022', '4/22/2022', '4/23/2022', '4/24/2022', '4/25/2022',\n",
       "       '4/26/2022', '4/27/2022', '4/28/2022', '4/29/2022', '4/30/2022',\n",
       "       '5/1/2022', '5/2/2022', '5/3/2022', '5/4/2022', '5/5/2022',\n",
       "       '5/6/2022', '5/7/2022', '5/8/2022', '5/9/2022', '5/10/2022',\n",
       "       '5/11/2022', '5/12/2022', '5/13/2022', '5/14/2022', '5/15/2022',\n",
       "       '5/16/2022', '5/17/2022', '5/18/2022', '5/19/2022', '5/20/2022',\n",
       "       '5/21/2022', '5/22/2022', '5/23/2022', '5/24/2022', '5/25/2022',\n",
       "       '5/26/2022', '5/27/2022', '5/28/2022', '5/29/2022', '5/30/2022',\n",
       "       '5/31/2022', '6/1/2022', '6/2/2022', '6/3/2022', '6/4/2022',\n",
       "       '6/5/2022', '6/6/2022', '6/7/2022', '6/8/2022', '6/9/2022',\n",
       "       '6/10/2022', '6/11/2022', '6/12/2022', '6/13/2022', '6/14/2022',\n",
       "       '6/15/2022', '6/16/2022', '6/17/2022', '6/18/2022', '6/19/2022',\n",
       "       '6/20/2022', '6/21/2022', '6/22/2022', '6/23/2022', '6/24/2022',\n",
       "       '6/25/2022', '6/26/2022', '6/27/2022', '6/28/2022', '6/29/2022',\n",
       "       '6/30/2022', '7/1/2022', '7/2/2022', '7/3/2022', '7/4/2022',\n",
       "       '7/5/2022', '7/6/2022', '7/7/2022', '7/8/2022', '7/9/2022',\n",
       "       '7/10/2022', '7/11/2022', '7/12/2022', '7/13/2022', '7/14/2022',\n",
       "       '7/15/2022', '7/16/2022', '7/17/2022', '7/18/2022', '7/19/2022',\n",
       "       '7/20/2022', '7/21/2022', '7/22/2022', '7/23/2022', '7/24/2022',\n",
       "       '7/25/2022', '7/26/2022', '7/27/2022', '7/28/2022', '7/29/2022',\n",
       "       '7/30/2022', '7/31/2022', '8/1/2022', '8/2/2022', '8/3/2022',\n",
       "       '8/4/2022', '8/5/2022', '8/6/2022', '8/7/2022', '8/8/2022',\n",
       "       '8/9/2022', '8/10/2022', '8/11/2022', '8/12/2022', '8/13/2022',\n",
       "       '8/14/2022', '8/15/2022', '8/16/2022', '8/17/2022', '8/18/2022',\n",
       "       '8/19/2022', '8/20/2022', '8/21/2022', '8/22/2022', '8/23/2022',\n",
       "       '8/24/2022', '8/25/2022', '8/26/2022', '8/27/2022', '8/28/2022',\n",
       "       '8/29/2022', '8/30/2022', '8/31/2022', '9/1/2022', '9/2/2022',\n",
       "       '9/3/2022', '9/4/2022', '9/5/2022', '9/6/2022', '9/7/2022',\n",
       "       '9/8/2022', '9/9/2022', '9/10/2022', '9/11/2022', '9/12/2022',\n",
       "       '9/13/2022', '9/14/2022', '9/15/2022', '9/16/2022', '9/17/2022',\n",
       "       '9/18/2022', '9/19/2022', '9/20/2022'], dtype=object)"
      ]
     },
     "execution_count": 14,
     "metadata": {},
     "output_type": "execute_result"
    }
   ],
   "source": [
    "np.array(data['Unnamed: 0'])"
   ]
  },
  {
   "cell_type": "code",
   "execution_count": 6,
   "id": "4061e063-fb7c-4a7d-8fc2-511b24bbf77b",
   "metadata": {},
   "outputs": [],
   "source": [
    "dfframe =pd.DataFrame(data = casess, index=np.array(data['Unnamed: 0']))\n",
    "dfframe.to_csv('Cun_PP.csv')"
   ]
  },
  {
   "cell_type": "markdown",
   "id": "8c215fc7-037f-47fa-b6ab-6720310ce1f3",
   "metadata": {},
   "source": [
    "### making the cummulative vertical"
   ]
  },
  {
   "cell_type": "code",
   "execution_count": 16,
   "id": "5c095c45-0b6e-429b-93a6-882f2f01bddb",
   "metadata": {},
   "outputs": [
    {
     "data": {
      "text/html": [
       "<div>\n",
       "<style scoped>\n",
       "    .dataframe tbody tr th:only-of-type {\n",
       "        vertical-align: middle;\n",
       "    }\n",
       "\n",
       "    .dataframe tbody tr th {\n",
       "        vertical-align: top;\n",
       "    }\n",
       "\n",
       "    .dataframe thead th {\n",
       "        text-align: right;\n",
       "    }\n",
       "</style>\n",
       "<table border=\"1\" class=\"dataframe\">\n",
       "  <thead>\n",
       "    <tr style=\"text-align: right;\">\n",
       "      <th></th>\n",
       "      <th>Unnamed: 0</th>\n",
       "      <th>0</th>\n",
       "    </tr>\n",
       "  </thead>\n",
       "  <tbody>\n",
       "    <tr>\n",
       "      <th>0</th>\n",
       "      <td>11/29/2021</td>\n",
       "      <td>2476</td>\n",
       "    </tr>\n",
       "    <tr>\n",
       "      <th>1</th>\n",
       "      <td>11/30/2021</td>\n",
       "      <td>3952</td>\n",
       "    </tr>\n",
       "    <tr>\n",
       "      <th>2</th>\n",
       "      <td>12/1/2021</td>\n",
       "      <td>7282</td>\n",
       "    </tr>\n",
       "    <tr>\n",
       "      <th>3</th>\n",
       "      <td>12/2/2021</td>\n",
       "      <td>11768</td>\n",
       "    </tr>\n",
       "    <tr>\n",
       "      <th>4</th>\n",
       "      <td>12/3/2021</td>\n",
       "      <td>14302</td>\n",
       "    </tr>\n",
       "  </tbody>\n",
       "</table>\n",
       "</div>"
      ],
      "text/plain": [
       "   Unnamed: 0      0\n",
       "0  11/29/2021   2476\n",
       "1  11/30/2021   3952\n",
       "2   12/1/2021   7282\n",
       "3   12/2/2021  11768\n",
       "4   12/3/2021  14302"
      ]
     },
     "execution_count": 16,
     "metadata": {},
     "output_type": "execute_result"
    }
   ],
   "source": [
    "dat =pd.read_csv('Cun_PP.csv')\n",
    "dat.head()"
   ]
  },
  {
   "cell_type": "code",
   "execution_count": 17,
   "id": "8c5c85da-bbce-4bc4-95a8-a023e69a7134",
   "metadata": {},
   "outputs": [],
   "source": [
    "date = dat[\"Unnamed: 0\"]\n",
    "new_cases = dat[\"0\"]"
   ]
  },
  {
   "cell_type": "code",
   "execution_count": 18,
   "id": "70b0aff3-3e5d-420d-af76-55a6d9deeb5b",
   "metadata": {},
   "outputs": [],
   "source": [
    "data1 = pd.DataFrame(data = [np.array(new_cases)], columns = date)"
   ]
  },
  {
   "cell_type": "code",
   "execution_count": 19,
   "id": "8e970f3b-a043-4ecb-8b05-a1f8f8da7aea",
   "metadata": {},
   "outputs": [],
   "source": [
    "data1.to_csv('C_P.csv')"
   ]
  },
  {
   "cell_type": "code",
   "execution_count": null,
   "id": "9342a6d1-785d-4605-84e6-6a2446726a60",
   "metadata": {},
   "outputs": [],
   "source": []
  }
 ],
 "metadata": {
  "kernelspec": {
   "display_name": "Python 3 (ipykernel)",
   "language": "python",
   "name": "python3"
  },
  "language_info": {
   "codemirror_mode": {
    "name": "ipython",
    "version": 3
   },
   "file_extension": ".py",
   "mimetype": "text/x-python",
   "name": "python",
   "nbconvert_exporter": "python",
   "pygments_lexer": "ipython3",
   "version": "3.10.5"
  }
 },
 "nbformat": 4,
 "nbformat_minor": 5
}
